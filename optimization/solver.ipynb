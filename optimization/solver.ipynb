{
 "cells": [
  {
   "cell_type": "code",
   "execution_count": 1,
   "metadata": {},
   "outputs": [],
   "source": [
    "#### Solve various implicit functions using cvxpy\n",
    "import cvxpy as cp\n",
    "import numpy as np"
   ]
  },
  {
   "cell_type": "code",
   "execution_count": 2,
   "metadata": {},
   "outputs": [
    {
     "name": "stdout",
     "output_type": "stream",
     "text": [
      "status: optimal\n",
      "optimal value 1.0\n",
      "optimal var 1.0 1.570086213240983e-22\n"
     ]
    }
   ],
   "source": [
    "'''\n",
    "minimize    (x - y)^2\n",
    "subject to  x + y == 1\n",
    "            x - y >= 1\n",
    "'''\n",
    "\n",
    "# Create two scalar optimization variables.\n",
    "x = cp.Variable()\n",
    "y = cp.Variable()\n",
    "\n",
    "# Create two constraints.\n",
    "constraints = [x + y == 1,\n",
    "               x - y >= 1]\n",
    "\n",
    "# Form objective.\n",
    "obj = cp.Minimize((x - y)**2)\n",
    "\n",
    "# Form and solve problem.\n",
    "prob = cp.Problem(obj, constraints)\n",
    "prob.solve()  # Returns the optimal value.\n",
    "print(\"status:\", prob.status)\n",
    "print(\"optimal value\", prob.value)\n",
    "print(\"optimal var\", x.value, y.value)"
   ]
  },
  {
   "cell_type": "code",
   "execution_count": 3,
   "metadata": {},
   "outputs": [],
   "source": [
    "import cvxpy as cp\n",
    "import numpy as np"
   ]
  },
  {
   "cell_type": "markdown",
   "metadata": {},
   "source": [
    "## Testing with MOD-DR\n",
    "\n",
    "<img src='https://res.cloudinary.com/crammer/image/upload/v1621485542/Screen_Shot_2021-05-19_at_9.37.10_PM_xut2kj.png'>\n",
    "\n",
    "Assume the following:\n",
    "<ul>\n",
    "    <li>let f^Ope(a, b) = (a - b)^2 </li>\n",
    "    <li>let f^Mtn(a, b, c) = (a - b - c)^2 </li>\n",
    "    <li>Let R^DR = 1 </li>\n",
    "    <li>lambda_util = 0.2 </li>\n",
    "    <li>u(x) = x </li>\n",
    "    <li>X(a, b) = 1 / (a + b) </li>\n",
    "    <li>Z(a, b) = (a - b)^2 + b </li>\n",
    "</ul>"
   ]
  },
  {
   "cell_type": "code",
   "execution_count": 4,
   "metadata": {},
   "outputs": [],
   "source": [
    "# Creates a 10 by 10\n",
    "x = cp.Variable((3, 3))\n",
    "xi = cp.Variable((3, 3))\n",
    "z = cp.Variable((3, 3))\n",
    "R = cp.Parameter(nonneg=True)\n",
    "R.value = 1\n",
    "\n",
    "# You can use X anywhere you would use\n",
    "# a normal CVXPY variable.\n",
    "\n",
    "constraints = [x <= (z + xi),\n",
    "               (z + xi) <= x,\n",
    "               z <= (z - x)**0.5 + x]\n",
    "\n",
    "obj = cp.Minimize(cp.sum( (x - xi)**2 + (x - z - xi)**2 - R - 0.2 * x ))"
   ]
  },
  {
   "cell_type": "code",
   "execution_count": 5,
   "metadata": {},
   "outputs": [
    {
     "name": "stdout",
     "output_type": "stream",
     "text": [
      "status: optimal\n",
      "optimal value -9.089999999930873\n",
      "optimal var [[0.1 0.1 0.1]\n",
      " [0.1 0.1 0.1]\n",
      " [0.1 0.1 0.1]] [[-3.84039519e-11 -3.84039519e-11 -3.84039519e-11]\n",
      " [-3.84039519e-11 -3.84039519e-11 -3.84039519e-11]\n",
      " [-3.84039519e-11 -3.84039519e-11 -3.84039519e-11]] [[0.1 0.1 0.1]\n",
      " [0.1 0.1 0.1]\n",
      " [0.1 0.1 0.1]] 1\n"
     ]
    }
   ],
   "source": [
    "# Form and solve problem.\n",
    "prob = cp.Problem(obj, constraints)\n",
    "prob.solve()  # Returns the optimal value.\n",
    "print(\"status:\", prob.status)\n",
    "print(\"optimal value\", prob.value)\n",
    "print(\"optimal var\", x.value, xi.value, z.value, R.value)"
   ]
  }
 ],
 "metadata": {
  "kernelspec": {
   "display_name": "Python 3",
   "language": "python",
   "name": "python3"
  },
  "language_info": {
   "codemirror_mode": {
    "name": "ipython",
    "version": 3
   },
   "file_extension": ".py",
   "mimetype": "text/x-python",
   "name": "python",
   "nbconvert_exporter": "python",
   "pygments_lexer": "ipython3",
   "version": "3.7.6"
  }
 },
 "nbformat": 4,
 "nbformat_minor": 4
}
